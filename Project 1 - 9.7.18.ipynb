{
 "cells": [
  {
   "cell_type": "markdown",
   "metadata": {},
   "source": [
    "Defining Class Node"
   ]
  },
  {
   "cell_type": "code",
   "execution_count": 25,
   "metadata": {},
   "outputs": [],
   "source": [
    "class Node:\n",
    "    def __init__(self, node_name):                   # The method does not have to test the validity of name.\n",
    "        self.name=node_name                          # name can be any immutable object, most naturally a string or a number\n",
    "        self.neighbors={}                            # a dictionary of the neighbors with the neighbors’ names as keys and the weights of the corresponding edges as values.\n",
    "    \n",
    "    def __str__(self):\n",
    "        return [self.name, self.neighbors]\n",
    "\n",
    "    def __len__(self):\n",
    "        return len(self.neighbors)                   # returns the number of neighbors.\n",
    "      \n",
    "    def __contains__(self, item):                    # returns whether item is a name of a neighbor of self\n",
    "        return item in list(self.neighbors.keys())\n",
    "     \n",
    "    def __getitem__(self, key):                      # returns the weight of the neighbor named key. If there is no such neighbor, then the method returns None.\n",
    "        try:\n",
    "            return self.neighbors[key]\n",
    "        except:\n",
    "            return None\n",
    "\n",
    "    def __eq__(self, other):\n",
    "        return other==self.name\n",
    "    \n",
    "    def __ne__(self, other):\n",
    "        return other!=self.name\n",
    "    \n",
    "    def update(self, name, weight):                 # adds name as a neighbor of self. If name is not a neighbor of self, then it should be added. If name is already a neighbor of self, then its weight should be updated to the maximum between the existing weight and weight. This method should not allow adding a neighbor with the same name as self.\n",
    "        if name in self.neighbors:\n",
    "            self.neighbors[name]=max(self.neighbors[name], weight)\n",
    "        else: \n",
    "            if name!=self.name:\n",
    "                self.neighbors.update({name: weight})\n",
    "\n",
    "    def remove_neighbor(self, name):                # removes name from being a neighbor of self. This method should not fail if name is not a neighbor of self.\n",
    "        if name in self.neighbors:\n",
    "            self.neighbors.pop(name)\n",
    "    \n",
    "    def is_isolated(self):\n",
    "        return self.neighbors=={}                  # returns True if self has no neighbors.\n"
   ]
  },
  {
   "cell_type": "markdown",
   "metadata": {},
   "source": [
    "Question 1 - Create 10 Node objects according to the figure above, print them (textually, of course)"
   ]
  },
  {
   "cell_type": "code",
   "execution_count": 33,
   "metadata": {},
   "outputs": [],
   "source": [
    "node1=['Node1', {2:10, 4:20, 5:20, 6:5, 7:15}]\n",
    "node2=['Node2', {3:5, 4:10}]\n",
    "node3=['Node3', {2:15, 4:5}]\n",
    "node4=['Node4', {5:10}]\n",
    "node5=['Node5', {6:5}]\n",
    "node6=['Node6', {}]\n",
    "node7=['Node7', {6:10}]\n",
    "node8=['node8', {1:5, 2:20, 7:5}]\n",
    "node9=['Node9', {2:15, 8:20, 10:10}]\n",
    "node10=['Node10', {2:5, 3:15}]"
   ]
  },
  {
   "cell_type": "code",
   "execution_count": 34,
   "metadata": {},
   "outputs": [],
   "source": [
    "nodes=[node1, node2, node3, node4, node5, node6, node7, node8, node9, node10]"
   ]
  },
  {
   "cell_type": "code",
   "execution_count": 35,
   "metadata": {},
   "outputs": [
    {
     "name": "stdout",
     "output_type": "stream",
     "text": [
      "['Node1', {2: 10, 4: 20, 5: 20, 6: 5, 7: 15}]\n",
      "['Node2', {3: 5, 4: 10}]\n",
      "['Node3', {2: 15, 4: 5}]\n",
      "['Node4', {5: 10}]\n",
      "['Node5', {6: 5}]\n",
      "['Node6', {}]\n",
      "['Node7', {6: 10}]\n",
      "['node8', {1: 5, 2: 20, 7: 5}]\n",
      "['Node9', {2: 15, 8: 20, 10: 10}]\n",
      "['Node10', {2: 5, 3: 15}]\n"
     ]
    }
   ],
   "source": [
    "for node in nodes:\n",
    "    print(node.__str__())"
   ]
  },
  {
   "cell_type": "code",
   "execution_count": 36,
   "metadata": {},
   "outputs": [],
   "source": [
    "for i in range(len(nodes)):\n",
    "    globals()['Node%s' % (i+1)] = Node(nodes[i][0])\n",
    "    for j in range(len(nodes)):\n",
    "        try:\n",
    "            globals()['Node%s' % (i+1)].update(j+1, nodes[i][1][j+1])\n",
    "        except:\n",
    "            continue"
   ]
  },
  {
   "cell_type": "code",
   "execution_count": 37,
   "metadata": {},
   "outputs": [],
   "source": [
    "Nodes=[Node1, Node2, Node3, Node4, Node5, Node6, Node7, Node8, Node9, Node10]"
   ]
  },
  {
   "cell_type": "code",
   "execution_count": 38,
   "metadata": {},
   "outputs": [
    {
     "name": "stdout",
     "output_type": "stream",
     "text": [
      "['Node1', {2: 10, 4: 20, 5: 20, 6: 5, 7: 15}]\n",
      "['Node2', {3: 5, 4: 10}]\n",
      "['Node3', {2: 15, 4: 5}]\n",
      "['Node4', {5: 10}]\n",
      "['Node5', {6: 5}]\n",
      "['Node6', {}]\n",
      "['Node7', {6: 10}]\n",
      "['node8', {1: 5, 2: 20, 7: 5}]\n",
      "['Node9', {2: 15, 8: 20, 10: 10}]\n",
      "['Node10', {2: 5, 3: 15}]\n"
     ]
    }
   ],
   "source": [
    "for node in Nodes:\n",
    "    print(node.__str__())"
   ]
  },
  {
   "cell_type": "markdown",
   "metadata": {},
   "source": [
    "Question 2 - Make some tests to make sure your implementation works."
   ]
  },
  {
   "cell_type": "code",
   "execution_count": 32,
   "metadata": {},
   "outputs": [
    {
     "name": "stdout",
     "output_type": "stream",
     "text": [
      "# Define a Node #\n",
      "# name and neighbors Attributes #\n",
      "1\n",
      "{}\n",
      "B\n",
      "{}\n",
      "# __str__ and __len__ Methods #\n",
      "<bound method Node.__len__ of <__main__.Node object at 0x000001CDEF23C4A8>>\n",
      "[1, {}]\n",
      "<bound method Node.__len__ of <__main__.Node object at 0x000001CDEF23C080>>\n",
      "['B', {}]\n",
      "# __contains__, __getitem__, __eq__, __ne__, is_isolated Methods #\n",
      "False\n",
      "None\n",
      "True\n",
      "True\n",
      "True\n",
      "# update and remove_neighbor Methods #\n",
      "{2: 10}\n",
      "{2: 10, 4: 20}\n",
      "{'A': 100}\n",
      "{'A': 100, 'C': 200}\n",
      "{2: 10, 4: 20}\n",
      "{4: 20}\n",
      "{4: 20, 5: 25}\n",
      "{'A': 100, 'C': 200, 'D': 300}\n",
      "{'A': 100, 'C': 200, 'D': 300, 'E': 400}\n",
      "# Check Again __str__, __len__, __contains__, __getitem__, __eq__, __ne__, is_isolated Methods #\n",
      "[1, {4: 20, 5: 25}]\n",
      "<bound method Node.__len__ of <__main__.Node object at 0x000001CDEF23C4A8>>\n",
      "False\n",
      "True\n",
      "400\n",
      "False\n",
      "True\n",
      "False\n",
      "False\n"
     ]
    }
   ],
   "source": [
    "print('# Define a Node #')\n",
    "Node1=Node(1)\n",
    "NodeB=Node('B')\n",
    "print('# name and neighbors Attributes #')\n",
    "print(Node1.name)\n",
    "print(Node1.neighbors)\n",
    "print(NodeB.name)\n",
    "print(NodeB.neighbors)\n",
    "print('# __str__ and __len__ Methods #')\n",
    "print(Node1.__len__)\n",
    "print(Node1.__str__())\n",
    "print(NodeB.__len__)\n",
    "print(NodeB.__str__())\n",
    "print('# __contains__, __getitem__, __eq__, __ne__, is_isolated Methods #')\n",
    "print(Node1.__contains__(1))\n",
    "print(Node1.__getitem__(2))\n",
    "print(Node1.__eq__(1))\n",
    "print(Node1.__ne__('B'))\n",
    "print(Node1.is_isolated())\n",
    "print('# update and remove_neighbor Methods #') \n",
    "Node1.update(2,10)\n",
    "print(Node1.neighbors)\n",
    "Node1.update(4,20)\n",
    "print(Node1.neighbors)\n",
    "NodeB.update('A',100)\n",
    "print(NodeB.neighbors)\n",
    "NodeB.update('C',200)\n",
    "print(NodeB.neighbors)\n",
    "Node1.remove_neighbor(5)\n",
    "print(Node1.neighbors)\n",
    "Node1.remove_neighbor(2)\n",
    "print(Node1.neighbors)\n",
    "Node1.update(5,25)\n",
    "print(Node1.neighbors)\n",
    "NodeB.update('D',300)\n",
    "print(NodeB.neighbors)\n",
    "NodeB.update('E',400)\n",
    "print(NodeB.neighbors)\n",
    "print('# Check Again __str__, __len__, __contains__, __getitem__, __eq__, __ne__, is_isolated Methods #')\n",
    "print(Node1.__str__())\n",
    "print(Node1.__len__)\n",
    "print(Node1.__contains__(2))\n",
    "print(Node1.__contains__(5))\n",
    "print(NodeB.__getitem__('E'))\n",
    "print(Node1.__eq__(2))\n",
    "print(NodeB.__eq__('B'))\n",
    "print(NodeB.__ne__('B'))\n",
    "print(NodeB.is_isolated())\n"
   ]
  },
  {
   "cell_type": "markdown",
   "metadata": {},
   "source": [
    "Class Graph"
   ]
  },
  {
   "cell_type": "code",
   "execution_count": 60,
   "metadata": {},
   "outputs": [],
   "source": [
    "class Graph:\n",
    "    def __init__(self, graph_name, nodes_list=[]):\n",
    "        self.name=graph_name                                      # the name of the graph.\n",
    "        self.nodes={}                                             # this is a dictionary fully descriptive of the graph. Its keys are the names of the nodes, and its values are the nodes instances (of class Node).\n",
    "        for i in range(len(nodes_list)):\n",
    "            self.nodes.update({nodes_list[i].name: nodes_list[i]}) \n",
    "\n",
    "    def __str__(self):                                            # This method should print the description of all the nodes in the graph.\n",
    "        for node in self.nodes:\n",
    "            print(self.nodes[node].__str__())\n",
    "\n",
    "    def __len__(self):                                            # returns the number of nodes in the graph. \n",
    "        return len(self.nodes)\n",
    "            \n",
    "    def __contains__(self, key):                               # returns True in two cases: (1) If key is a string, then if a node called key is in self, and (2) If key is a Node, then if a node with the same name is in self\n",
    "        try:\n",
    "            if key in self.nodes.values() or key in self.nodes:\n",
    "                return True\n",
    "        except:\n",
    "                return False\n",
    "\n",
    "    def __getitem__(self, name):                                 # returns the Node object whose name is name.\n",
    "        if name not in list(self.nodes.keys()):\n",
    "            raise KeyError(\"The node is not in the graph\")      # This method should raise KeyError if name is not in the graph.\n",
    "        else:\n",
    "            return self.nodes[name]\n",
    "    \n",
    "    def __add__(self, other):                                   # returns a new graph object that includes all the nodes and edges of self and other.\n",
    "        NewGraph=Graph('NewGraph', nodes_list=[])\n",
    "        NewGraph.nodes=self.nodes\n",
    "        for node in list(other.nodes.keys()):\n",
    "            if node not in self.nodes:\n",
    "                NewGraph.nodes.update({node: other.nodes[node]})\n",
    "            else: \n",
    "                continue\n",
    "        NewGraph.len=len(NewGraph.nodes)\n",
    "        return NewGraph\n",
    "\n",
    "    def update(self, node):                                 # adds a new node to the graph\n",
    "        self.nodes.update({node.name: node})\n",
    "\n",
    "    def remove_node(self, name):\n",
    "        if name in list(self.nodes.keys()):\n",
    "            self.nodes.pop(name)\n",
    "        self.len=len(self.nodes)\n",
    "        \n",
    "    def is_edge(self, frm_name, to_name):\n",
    "        try:\n",
    "            if frm_name and to_name in self.nodes.values():\n",
    "                return frm_name.contains(int(to_name.name[4:]))\n",
    "        except:\n",
    "                return False\n",
    "            \n",
    "\n",
    "#    def add_edge(self, frm_name, to_name, weight):         # adds an edge making to_name a neighbor of frm_name\n",
    "#        try:\n",
    "#            if frm_name and to_name in self.nodes.values():\n",
    "#                frm_name.update(int(to_name.name[4:], weight)\n",
    "#                self.nodes.pop(frm_name)                \n",
    "#                self.nodes.update({nodes_list[i].name: nodes_list[i]})\n",
    "#                \n",
    "#        except:\n",
    "#            return ???"
   ]
  },
  {
   "cell_type": "code",
   "execution_count": 63,
   "metadata": {},
   "outputs": [
    {
     "name": "stdout",
     "output_type": "stream",
     "text": [
      "# create graphs named GraphA, GraphB and GraphAB which contains both #\n",
      "# name and nodes Attributes #\n",
      "GraphA\n",
      "{'Node1': <__main__.Node object at 0x000001CDEF18A588>, 'Node2': <__main__.Node object at 0x000001CDEF18A3C8>, 'Node3': <__main__.Node object at 0x000001CDEF18A240>}\n",
      "GraphB\n",
      "{'Node4': <__main__.Node object at 0x000001CDEF18A278>, 'Node5': <__main__.Node object at 0x000001CDEF18AC88>, 'Node6': <__main__.Node object at 0x000001CDEC250780>, 'Node7': <__main__.Node object at 0x000001CDEF2435F8>, 'node8': <__main__.Node object at 0x000001CDEF243518>, 'Node9': <__main__.Node object at 0x000001CDEF2434A8>, 'Node10': <__main__.Node object at 0x000001CDEF243C18>}\n",
      "GraphAB\n",
      "{'Node1': <__main__.Node object at 0x000001CDEF18A588>, 'Node2': <__main__.Node object at 0x000001CDEF18A3C8>, 'Node3': <__main__.Node object at 0x000001CDEF18A240>, 'Node4': <__main__.Node object at 0x000001CDEF18A278>, 'Node5': <__main__.Node object at 0x000001CDEF18AC88>, 'Node6': <__main__.Node object at 0x000001CDEC250780>, 'Node7': <__main__.Node object at 0x000001CDEF2435F8>, 'node8': <__main__.Node object at 0x000001CDEF243518>, 'Node9': <__main__.Node object at 0x000001CDEF2434A8>, 'Node10': <__main__.Node object at 0x000001CDEF243C18>}\n",
      "# __str__ and __len__ Methods #\n",
      "<bound method Graph.__len__ of <__main__.Graph object at 0x000001CDEF255E80>>\n",
      "['Node1', {2: 10, 4: 20, 5: 20, 6: 5, 7: 15}]\n",
      "['Node2', {3: 5, 4: 10}]\n",
      "['Node3', {2: 15, 4: 5}]\n",
      "['Node4', {5: 10}]\n",
      "['Node5', {6: 5}]\n",
      "['Node6', {}]\n",
      "['Node7', {6: 10}]\n",
      "['node8', {1: 5, 2: 20, 7: 5}]\n",
      "['Node9', {2: 15, 8: 20, 10: 10}]\n",
      "['Node10', {2: 5, 3: 15}]\n",
      "None\n",
      "# __contains__ and __getitem__ Methods #\n",
      "True\n",
      "True\n",
      "# __add__ Method #\n",
      "NewGraph\n",
      "10\n",
      "{'Node1': <__main__.Node object at 0x000001CDEF18A588>, 'Node2': <__main__.Node object at 0x000001CDEF18A3C8>, 'Node3': <__main__.Node object at 0x000001CDEF18A240>, 'Node4': <__main__.Node object at 0x000001CDEF18A278>, 'Node5': <__main__.Node object at 0x000001CDEF18AC88>, 'Node6': <__main__.Node object at 0x000001CDEC250780>, 'Node7': <__main__.Node object at 0x000001CDEF2435F8>, 'node8': <__main__.Node object at 0x000001CDEF243518>, 'Node9': <__main__.Node object at 0x000001CDEF2434A8>, 'Node10': <__main__.Node object at 0x000001CDEF243C18>}\n",
      "{'Node1': <__main__.Node object at 0x000001CDEF18A588>, 'Node2': <__main__.Node object at 0x000001CDEF18A3C8>, 'Node3': <__main__.Node object at 0x000001CDEF18A240>, 'Node4': <__main__.Node object at 0x000001CDEF18A278>, 'Node5': <__main__.Node object at 0x000001CDEF18AC88>, 'Node6': <__main__.Node object at 0x000001CDEC250780>, 'Node7': <__main__.Node object at 0x000001CDEF2435F8>, 'node8': <__main__.Node object at 0x000001CDEF243518>, 'Node9': <__main__.Node object at 0x000001CDEF2434A8>, 'Node10': <__main__.Node object at 0x000001CDEF243C18>}\n",
      "10\n",
      "False\n",
      "False\n",
      "False\n"
     ]
    }
   ],
   "source": [
    "print('# create graphs named GraphA, GraphB and GraphAB which contains both #')\n",
    "NodesA=[Node1, Node2, Node3]\n",
    "NodesB=[Node4, Node5, Node6, Node7, Node8, Node9, Node10]\n",
    "GraphA=Graph('GraphA', nodes_list=NodesA)\n",
    "GraphB=Graph('GraphB', nodes_list=NodesB)\n",
    "GraphAB=Graph('GraphAB', nodes_list=Nodes)\n",
    "print('# name and nodes Attributes #')\n",
    "print(GraphA.name)\n",
    "print(GraphA.nodes)\n",
    "print(GraphB.name)\n",
    "print(GraphB.nodes)\n",
    "print(GraphAB.name)\n",
    "print(GraphAB.nodes)\n",
    "print('# __str__ and __len__ Methods #')\n",
    "print(GraphAB.__len__)\n",
    "print(GraphAB.__str__())\n",
    "print('# __contains__ and __getitem__ Methods #')\n",
    "print(GraphAB.__contains__('Node2'))\n",
    "print(GraphAB.__contains__(Node2))\n",
    "# print(GraphAB.__contains__('Node20'))                       # Problem \n",
    "# print(GraphAB.__contains__(Node20))                         # Problem\n",
    "# print(GraphAB.__getitem__('Node2'))                         # problem\n",
    "print('# __add__ Method #')\n",
    "GraphUnited=GraphA.add(GraphB)\n",
    "print(GraphUnited.name)                                       # can be improved...\n",
    "print(GraphUnited.len)\n",
    "print(GraphUnited.nodes)\n",
    "\n",
    "\n",
    "\n",
    "\n",
    "#GraphB.update(node1)\n",
    "#print(GraphB.len)\n",
    "#print(GraphB.nodes)\n",
    "Graph1.remove_node('node1')\n",
    "print(Graph1.nodes)\n",
    "print(Graph1.len)\n",
    "print(Graph1.is_edge(Node3, Node2)) # True\n",
    "print(Graph1.is_edge(Node2, Node3)) # True\n",
    "print(Graph1.is_edge(Node4, Node6)) # False\n",
    "# print(Graph1.is_edge(Node1, Node2)) # False\n",
    "# print(Graph1.is_edge(Node12, Node1))\n"
   ]
  },
  {
   "cell_type": "code",
   "execution_count": null,
   "metadata": {},
   "outputs": [],
   "source": []
  }
 ],
 "metadata": {
  "kernelspec": {
   "display_name": "Python 3",
   "language": "python",
   "name": "python3"
  },
  "language_info": {
   "codemirror_mode": {
    "name": "ipython",
    "version": 3
   },
   "file_extension": ".py",
   "mimetype": "text/x-python",
   "name": "python",
   "nbconvert_exporter": "python",
   "pygments_lexer": "ipython3",
   "version": "3.6.4"
  }
 },
 "nbformat": 4,
 "nbformat_minor": 2
}
